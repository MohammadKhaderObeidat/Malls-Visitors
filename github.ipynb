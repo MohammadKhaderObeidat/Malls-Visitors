{
 "cells": [
  {
   "cell_type": "markdown",
   "id": "c47d9c11-b1fd-4317-8c6e-f6d2192a6182",
   "metadata": {},
   "source": [
    "## importing"
   ]
  },
  {
   "cell_type": "code",
   "execution_count": 1,
   "id": "1204da7a-5773-4f71-ac56-283b30789fee",
   "metadata": {},
   "outputs": [],
   "source": [
    "import pandas as pd\n",
    "import numpy as np"
   ]
  },
  {
   "cell_type": "markdown",
   "id": "37299469-9834-453e-8da7-3b1efd0be5de",
   "metadata": {},
   "source": [
    "## reading dataset"
   ]
  },
  {
   "cell_type": "code",
   "execution_count": null,
   "id": "82d5622f-e2b8-47c1-bc36-713fcaf81af1",
   "metadata": {},
   "outputs": [],
   "source": [
    "mall = pd.read_csv('MALL_VISITORS.csv')\n",
    "mall"
   ]
  },
  {
   "cell_type": "markdown",
   "id": "88de8e2a-69e7-469d-851d-a48e8d133073",
   "metadata": {},
   "source": [
    "## data information \n"
   ]
  },
  {
   "cell_type": "code",
   "execution_count": 3,
   "id": "c35859c0-c0be-45a8-8044-9e9d693f178c",
   "metadata": {},
   "outputs": [
    {
     "data": {
      "text/plain": [
       "0"
      ]
     },
     "execution_count": 3,
     "metadata": {},
     "output_type": "execute_result"
    }
   ],
   "source": [
    "mall.isna().sum().sum()"
   ]
  },
  {
   "cell_type": "code",
   "execution_count": 4,
   "id": "cd198063-b8bb-46f4-ac23-6afc492679cd",
   "metadata": {},
   "outputs": [
    {
     "data": {
      "text/plain": [
       "0"
      ]
     },
     "execution_count": 4,
     "metadata": {},
     "output_type": "execute_result"
    }
   ],
   "source": [
    "mall.duplicated().sum()"
   ]
  },
  {
   "cell_type": "code",
   "execution_count": 5,
   "id": "4a312842-5269-4453-b3c1-1f1bb3d8db37",
   "metadata": {},
   "outputs": [],
   "source": [
    "mall.drop_duplicates(inplace=True)"
   ]
  },
  {
   "cell_type": "code",
   "execution_count": 6,
   "id": "578f12e3-78e9-4ca0-8afb-13bf9fead81e",
   "metadata": {},
   "outputs": [
    {
     "data": {
      "text/plain": [
       "0"
      ]
     },
     "execution_count": 6,
     "metadata": {},
     "output_type": "execute_result"
    }
   ],
   "source": [
    "mall.duplicated().sum()"
   ]
  },
  {
   "cell_type": "code",
   "execution_count": 7,
   "id": "8b14239b-656f-4b35-8a1e-c48004ef011e",
   "metadata": {},
   "outputs": [
    {
     "name": "stderr",
     "output_type": "stream",
     "text": [
      "/tmp/ipykernel_2372/506267909.py:1: FutureWarning: DataFrame.fillna with 'method' is deprecated and will raise in a future version. Use obj.ffill() or obj.bfill() instead.\n",
      "  mall_clean = mall.fillna(method='bfill')\n"
     ]
    }
   ],
   "source": [
    "mall_clean = mall.fillna(method='bfill')"
   ]
  },
  {
   "cell_type": "code",
   "execution_count": 8,
   "id": "48825fc2-068f-49ed-b2d3-b443cc0ae686",
   "metadata": {},
   "outputs": [
    {
     "data": {
      "text/plain": [
       "0"
      ]
     },
     "execution_count": 8,
     "metadata": {},
     "output_type": "execute_result"
    }
   ],
   "source": [
    "mall_clean.isna().sum().sum()"
   ]
  },
  {
   "cell_type": "code",
   "execution_count": 9,
   "id": "0ef288cf-562f-404c-9284-a1712d0fbe8f",
   "metadata": {},
   "outputs": [],
   "source": [
    "df = pd.read_csv('mall group.csv')"
   ]
  },
  {
   "cell_type": "code",
   "execution_count": 10,
   "id": "0ce83f30-1e70-4f5f-b765-bf8319b673fd",
   "metadata": {},
   "outputs": [],
   "source": [
    "df['VISIT_DATE'] = pd.to_datetime(df['VISIT_DATE'], format='%Y-%m-%d %H:%M:%S')\n",
    "\n",
    "\n",
    "df = df.sort_values(by=['MALL_NAME', 'SUBSCRIBER_ID', 'VISIT_DATE' ], ascending=True)\n",
    "\n",
    "\n",
    "# df['TIME_DIFF'] = df['VISIT_DATE'].diff()"
   ]
  },
  {
   "cell_type": "code",
   "execution_count": 11,
   "id": "43e836a5-e113-4b08-96bf-71866cc937ec",
   "metadata": {},
   "outputs": [],
   "source": [
    "df = pd.read_csv('mall group.csv')"
   ]
  },
  {
   "cell_type": "code",
   "execution_count": null,
   "id": "eddebd6f-1597-4f33-ab74-f1427d33edd0",
   "metadata": {},
   "outputs": [],
   "source": [
    "df.isnull().sum()"
   ]
  },
  {
   "cell_type": "code",
   "execution_count": 14,
   "id": "7a1441c7-ae9e-4716-b030-0898eabdcbfc",
   "metadata": {},
   "outputs": [],
   "source": [
    "df = df.dropna()"
   ]
  },
  {
   "cell_type": "code",
   "execution_count": 15,
   "id": "63bf8dc6-99a9-4b0a-a859-3ece31b7a5a7",
   "metadata": {},
   "outputs": [
    {
     "data": {
      "text/plain": [
       "(2722070, 13)"
      ]
     },
     "execution_count": 15,
     "metadata": {},
     "output_type": "execute_result"
    }
   ],
   "source": [
    "df.shape"
   ]
  },
  {
   "cell_type": "code",
   "execution_count": 16,
   "id": "41a912a7-7ee7-405c-b4bc-2205aac5e9ae",
   "metadata": {},
   "outputs": [
    {
     "data": {
      "text/plain": [
       "367246"
      ]
     },
     "execution_count": 16,
     "metadata": {},
     "output_type": "execute_result"
    }
   ],
   "source": [
    "df[\"SUBSCRIBER_ID\"].nunique()"
   ]
  },
  {
   "cell_type": "code",
   "execution_count": null,
   "id": "f6bd8b87-9b9e-4d18-bac1-ebc6c694b133",
   "metadata": {},
   "outputs": [],
   "source": [
    "df[\"MALL_NAME\"].unique()"
   ]
  },
  {
   "cell_type": "code",
   "execution_count": null,
   "id": "25b0124e-8029-4312-92d7-73ef0c954437",
   "metadata": {},
   "outputs": [],
   "source": [
    "df.head(30)"
   ]
  },
  {
   "cell_type": "code",
   "execution_count": null,
   "id": "542c498a-d0ae-4f00-a080-be702c0359fa",
   "metadata": {},
   "outputs": [],
   "source": [
    "df[df['SUBSCRIBER_ID']== 11121]"
   ]
  },
  {
   "cell_type": "code",
   "execution_count": null,
   "id": "7f80a3a8-181a-4564-a4a5-d9ad8cf23ffc",
   "metadata": {},
   "outputs": [],
   "source": [
    "df['TIME_DIFF'] = df.groupby(['SUBSCRIBER_ID', 'MALL_NAME'])[\"VISIT_DATE\"].diff()"
   ]
  },
  {
   "cell_type": "code",
   "execution_count": null,
   "id": "e9e1a6f3-1cc8-4df3-9787-2f94294ba2c6",
   "metadata": {},
   "outputs": [],
   "source": [
    "df.head()"
   ]
  },
  {
   "cell_type": "code",
   "execution_count": null,
   "id": "aa7669fa-06c6-4681-93b1-e37ef3d5d247",
   "metadata": {},
   "outputs": [],
   "source": [
    "df"
   ]
  },
  {
   "cell_type": "code",
   "execution_count": null,
   "id": "071aceb3-2c25-4af5-97f4-08b2355cc1dc",
   "metadata": {},
   "outputs": [],
   "source": [
    "df['TIME_DIFF_HOURS'] = df['TIME_DIFF'].dt.total_seconds() / 3600"
   ]
  },
  {
   "cell_type": "code",
   "execution_count": null,
   "id": "5c0fea4e-24ac-40ee-8fe3-d1dca7856cbc",
   "metadata": {},
   "outputs": [],
   "source": [
    "df"
   ]
  },
  {
   "cell_type": "code",
   "execution_count": null,
   "id": "149ee103-06e3-4c25-a158-15ef672a3530",
   "metadata": {},
   "outputs": [],
   "source": [
    "df.to_csv('time_in_mall.csv',index= False)"
   ]
  },
  {
   "cell_type": "code",
   "execution_count": null,
   "id": "8d572f4b-0770-450f-b0ee-0f0079c3a3df",
   "metadata": {},
   "outputs": [],
   "source": [
    "df['TIME_DIFF_HOURS'].max()"
   ]
  },
  {
   "cell_type": "code",
   "execution_count": null,
   "id": "cf4732dd-b431-4313-8302-236f56e35fa7",
   "metadata": {},
   "outputs": [],
   "source": [
    "df['TIME_DIFF_HOURS'].idxmax()"
   ]
  },
  {
   "cell_type": "code",
   "execution_count": null,
   "id": "f24e2925-610d-412d-9e54-44e585334b38",
   "metadata": {},
   "outputs": [],
   "source": [
    "df.loc[301273]"
   ]
  },
  {
   "cell_type": "code",
   "execution_count": null,
   "id": "3958e2ed-3c26-45c3-8258-cc68c023184f",
   "metadata": {},
   "outputs": [],
   "source": [
    "df['TIME_DIFF_HOURS'].mean() "
   ]
  },
  {
   "cell_type": "code",
   "execution_count": null,
   "id": "7baf1fac-74c4-4830-8911-4d45945f6fcc",
   "metadata": {},
   "outputs": [],
   "source": [
    "df.info()"
   ]
  },
  {
   "cell_type": "code",
   "execution_count": null,
   "id": "5fb80b9a-7b53-4370-893a-57cec7312496",
   "metadata": {},
   "outputs": [],
   "source": [
    "df.isna().sum().sum()"
   ]
  }
 ],
 "metadata": {
  "kernelspec": {
   "display_name": "Python 3 (ipykernel)",
   "language": "python",
   "name": "python3"
  },
  "language_info": {
   "codemirror_mode": {
    "name": "ipython",
    "version": 3
   },
   "file_extension": ".py",
   "mimetype": "text/x-python",
   "name": "python",
   "nbconvert_exporter": "python",
   "pygments_lexer": "ipython3",
   "version": "3.11.8"
  }
 },
 "nbformat": 4,
 "nbformat_minor": 5
}
